{
 "cells": [
  {
   "cell_type": "markdown",
   "id": "802af61d",
   "metadata": {},
   "source": [
    "**What is Feature Engineering?**\n",
    " \n",
    "            Feature engineering is the process of creating new features or modifying existing ones to improve the performance of machine learning models. It involves techniques like feature extraction, transformation, encoding, and scaling to make data more useful for predictions.\n",
    " "
   ]
  },
  {
   "cell_type": "markdown",
   "id": "49f04abb",
   "metadata": {},
   "source": [
    "**Why Do We Need Feature Engineering?**\n",
    " \n",
    "1.**Improves Model Performance** – Good features help models make better predictions.\n",
    " \n",
    "2.**Reduces Overfitting** – Helps eliminate noise and irrelevant data.\n",
    " \n",
    "3.**Handles Missing Data** – Creates meaningful replacements for missing values.\n",
    " \n",
    "4.**Enables Better Interpretability** – Makes features more understandable and useful.\n",
    "\n",
    "5.**Reduces Dimensionality** – Helps remove unnecessary data points, making the model efficient.\n",
    " "
   ]
  },
  {
   "cell_type": "code",
   "execution_count": 1,
   "id": "f4654306",
   "metadata": {},
   "outputs": [],
   "source": [
    "#Creating new features or modifying existed one"
   ]
  },
  {
   "cell_type": "code",
   "execution_count": 8,
   "id": "ab70437c",
   "metadata": {},
   "outputs": [
    {
     "name": "stdout",
     "output_type": "stream",
     "text": [
      "      TransactionDate  DayOfWeek  Hour IsWeekend\n",
      "0 2025-02-05 14:30:00          2    14        No\n",
      "1 2025-02-06 18:45:00          3    18        No\n",
      "2 2025-02-08 12:45:00          5    12       Yes\n"
     ]
    }
   ],
   "source": [
    "# Extract Date & Time Features\n",
    "\n",
    "import pandas as pd\n",
    "\n",
    "# Sample dataset\n",
    "df = pd.DataFrame({'TransactionDate': pd.to_datetime(['2025-02-05 14:30:00', '2025-02-06 18:45:00','2025-02-08 12:45:00'])})\n",
    "\n",
    "# Extract date-related features\n",
    "df['DayOfWeek'] = df['TransactionDate'].dt.dayofweek  # Monday=0, Sunday=6\n",
    "df['Hour'] = df['TransactionDate'].dt.hour  # Extract hour\n",
    "df['IsWeekend'] = df['DayOfWeek'].apply(lambda x: 'Yes' if x >= 5 else 'No')  # Weekend flag\n",
    "\n",
    "print(df)\n",
    "\n",
    "# Why? Helps capture behavioral trends (e.g., shopping habits on weekends vs. weekdays).\n"
   ]
  },
  {
   "cell_type": "code",
   "execution_count": 9,
   "id": "5246fbca",
   "metadata": {},
   "outputs": [
    {
     "name": "stdout",
     "output_type": "stream",
     "text": [
      "   UserID  AvgTransactionAmount\n",
      "0     101                 600.0\n",
      "1     102                 350.0\n",
      "2     103                 100.0\n"
     ]
    }
   ],
   "source": [
    "# Aggregated Features\n",
    "# Find average transaction amount per user:\n",
    "\n",
    "import pandas as pd\n",
    "\n",
    "df_transactions = pd.DataFrame({\n",
    "    'UserID': [101, 102, 101, 103, 102],\n",
    "    'TransactionAmount': [500, 300, 700, 100, 400]\n",
    "})\n",
    "\n",
    "df_user_avg = df_transactions.groupby('UserID')['TransactionAmount'].mean().reset_index()\n",
    "df_user_avg.rename(columns={'TransactionAmount': 'AvgTransactionAmount'}, inplace=True)\n",
    "print(df_user_avg)\n",
    "\n",
    "# Why? Identifies high-value customers and spending patterns."
   ]
  },
  {
   "cell_type": "code",
   "execution_count": 14,
   "id": "e70df1d5",
   "metadata": {},
   "outputs": [
    {
     "data": {
      "text/html": [
       "<div>\n",
       "<style scoped>\n",
       "    .dataframe tbody tr th:only-of-type {\n",
       "        vertical-align: middle;\n",
       "    }\n",
       "\n",
       "    .dataframe tbody tr th {\n",
       "        vertical-align: top;\n",
       "    }\n",
       "\n",
       "    .dataframe thead th {\n",
       "        text-align: right;\n",
       "    }\n",
       "</style>\n",
       "<table border=\"1\" class=\"dataframe\">\n",
       "  <thead>\n",
       "    <tr style=\"text-align: right;\">\n",
       "      <th></th>\n",
       "      <th>ProductCategory_Clothing</th>\n",
       "      <th>ProductCategory_Electronics</th>\n",
       "      <th>ProductCategory_Grocery</th>\n",
       "    </tr>\n",
       "  </thead>\n",
       "  <tbody>\n",
       "    <tr>\n",
       "      <th>0</th>\n",
       "      <td>0.0</td>\n",
       "      <td>1.0</td>\n",
       "      <td>0.0</td>\n",
       "    </tr>\n",
       "    <tr>\n",
       "      <th>1</th>\n",
       "      <td>1.0</td>\n",
       "      <td>0.0</td>\n",
       "      <td>0.0</td>\n",
       "    </tr>\n",
       "    <tr>\n",
       "      <th>2</th>\n",
       "      <td>1.0</td>\n",
       "      <td>0.0</td>\n",
       "      <td>0.0</td>\n",
       "    </tr>\n",
       "    <tr>\n",
       "      <th>3</th>\n",
       "      <td>0.0</td>\n",
       "      <td>0.0</td>\n",
       "      <td>1.0</td>\n",
       "    </tr>\n",
       "  </tbody>\n",
       "</table>\n",
       "</div>"
      ],
      "text/plain": [
       "   ProductCategory_Clothing  ProductCategory_Electronics  \\\n",
       "0                       0.0                          1.0   \n",
       "1                       1.0                          0.0   \n",
       "2                       1.0                          0.0   \n",
       "3                       0.0                          0.0   \n",
       "\n",
       "   ProductCategory_Grocery  \n",
       "0                      0.0  \n",
       "1                      0.0  \n",
       "2                      0.0  \n",
       "3                      1.0  "
      ]
     },
     "execution_count": 14,
     "metadata": {},
     "output_type": "execute_result"
    }
   ],
   "source": [
    "# Encoding Categorical Variables\n",
    "# Convert ProductCategory (Electronics, Clothing) into numerical form:\n",
    "\n",
    "from sklearn.preprocessing import OneHotEncoder\n",
    "import pandas as pd\n",
    "\n",
    "df = pd.DataFrame({'ProductCategory': ['Electronics', 'Clothing', 'Clothing', 'Grocery']})\n",
    "\n",
    "encoder = OneHotEncoder(sparse_output=False)\n",
    "encoded_features = encoder.fit_transform(df[['ProductCategory']])\n",
    "\n",
    "df_encoded = pd.DataFrame(encoded_features, columns=encoder.get_feature_names_out(['ProductCategory']))\n",
    "df_encoded\n"
   ]
  },
  {
   "cell_type": "code",
   "execution_count": 15,
   "id": "d3ec2a2e",
   "metadata": {},
   "outputs": [
    {
     "name": "stdout",
     "output_type": "stream",
     "text": [
      "   TransactionAmount  LogTransactionAmount\n",
      "0                100              4.615121\n",
      "1                200              5.303305\n",
      "2                500              6.216606\n",
      "3              10000              9.210440\n",
      "4              20000              9.903538\n"
     ]
    }
   ],
   "source": [
    "# Log Transformation for Skewed Data\n",
    "# If TransactionAmount has outliers, apply log transformation:\n",
    "import numpy as np\n",
    "import pandas as pd\n",
    "\n",
    "df = pd.DataFrame({'TransactionAmount': [100, 200, 500, 10000, 20000]})\n",
    "df['LogTransactionAmount'] = np.log1p(df['TransactionAmount'])  # log1p avoids log(0) issues\n",
    "print(df)\n"
   ]
  },
  {
   "cell_type": "code",
   "execution_count": 18,
   "id": "ee610a15",
   "metadata": {
    "scrolled": false
   },
   "outputs": [
    {
     "data": {
      "text/html": [
       "<div>\n",
       "<style scoped>\n",
       "    .dataframe tbody tr th:only-of-type {\n",
       "        vertical-align: middle;\n",
       "    }\n",
       "\n",
       "    .dataframe tbody tr th {\n",
       "        vertical-align: top;\n",
       "    }\n",
       "\n",
       "    .dataframe thead th {\n",
       "        text-align: right;\n",
       "    }\n",
       "</style>\n",
       "<table border=\"1\" class=\"dataframe\">\n",
       "  <thead>\n",
       "    <tr style=\"text-align: right;\">\n",
       "      <th></th>\n",
       "      <th>TransactionAmount</th>\n",
       "      <th>LogTransactionAmount</th>\n",
       "      <th>NormalizedTransactionAmount</th>\n",
       "      <th>StandardizedTransactionAmount</th>\n",
       "    </tr>\n",
       "  </thead>\n",
       "  <tbody>\n",
       "    <tr>\n",
       "      <th>0</th>\n",
       "      <td>100</td>\n",
       "      <td>4.615121</td>\n",
       "      <td>0.000000</td>\n",
       "      <td>-0.768912</td>\n",
       "    </tr>\n",
       "    <tr>\n",
       "      <th>1</th>\n",
       "      <td>200</td>\n",
       "      <td>5.303305</td>\n",
       "      <td>0.005025</td>\n",
       "      <td>-0.756223</td>\n",
       "    </tr>\n",
       "    <tr>\n",
       "      <th>2</th>\n",
       "      <td>500</td>\n",
       "      <td>6.216606</td>\n",
       "      <td>0.020101</td>\n",
       "      <td>-0.718158</td>\n",
       "    </tr>\n",
       "    <tr>\n",
       "      <th>3</th>\n",
       "      <td>10000</td>\n",
       "      <td>9.210440</td>\n",
       "      <td>0.497487</td>\n",
       "      <td>0.487231</td>\n",
       "    </tr>\n",
       "    <tr>\n",
       "      <th>4</th>\n",
       "      <td>20000</td>\n",
       "      <td>9.903538</td>\n",
       "      <td>1.000000</td>\n",
       "      <td>1.756062</td>\n",
       "    </tr>\n",
       "  </tbody>\n",
       "</table>\n",
       "</div>"
      ],
      "text/plain": [
       "   TransactionAmount  LogTransactionAmount  NormalizedTransactionAmount  \\\n",
       "0                100              4.615121                     0.000000   \n",
       "1                200              5.303305                     0.005025   \n",
       "2                500              6.216606                     0.020101   \n",
       "3              10000              9.210440                     0.497487   \n",
       "4              20000              9.903538                     1.000000   \n",
       "\n",
       "   StandardizedTransactionAmount  \n",
       "0                      -0.768912  \n",
       "1                      -0.756223  \n",
       "2                      -0.718158  \n",
       "3                       0.487231  \n",
       "4                       1.756062  "
      ]
     },
     "execution_count": 18,
     "metadata": {},
     "output_type": "execute_result"
    }
   ],
   "source": [
    "# Feature Scaling\n",
    "from sklearn.preprocessing import MinMaxScaler, StandardScaler\n",
    "\n",
    "scaler = MinMaxScaler()\n",
    "df['NormalizedTransactionAmount'] = scaler.fit_transform(df[['TransactionAmount']])\n",
    "\n",
    "standard_scaler = StandardScaler()\n",
    "df['StandardizedTransactionAmount'] = standard_scaler.fit_transform(df[['TransactionAmount']])\n",
    "df"
   ]
  }
 ],
 "metadata": {
  "kernelspec": {
   "display_name": "Python 3 (ipykernel)",
   "language": "python",
   "name": "python3"
  },
  "language_info": {
   "codemirror_mode": {
    "name": "ipython",
    "version": 3
   },
   "file_extension": ".py",
   "mimetype": "text/x-python",
   "name": "python",
   "nbconvert_exporter": "python",
   "pygments_lexer": "ipython3",
   "version": "3.11.5"
  }
 },
 "nbformat": 4,
 "nbformat_minor": 5
}

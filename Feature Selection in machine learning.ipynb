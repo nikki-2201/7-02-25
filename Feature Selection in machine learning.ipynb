{
 "cells": [
  {
   "cell_type": "markdown",
   "id": "dc28a2c6",
   "metadata": {},
   "source": [
    "**Feature Selection**\n",
    "   \n",
    "   Feature selection is the process of choosing the most important features (variables) from a dataset to improve a machine learning model's performance and efficiency. Instead of using all the features, we select only the most relevant ones that contribute significantly to predictions."
   ]
  },
  {
   "cell_type": "markdown",
   "id": "86e25230",
   "metadata": {},
   "source": [
    "**Why Do We Need Feature Selection?**\n",
    " \n",
    "*1.Reduces Overfitting 📉*\n",
    " \n",
    "        Too many irrelevant features can make a model complex and cause it to overfit the training data.\n",
    "\n",
    "*2.Improves Model Performance 🚀*\n",
    " \n",
    "        Selecting relevant features boosts accuracy and reduces unnecessary noise in the data.\n",
    "\n",
    "*3.Reduces Training Time ⏳*\n",
    " \n",
    "        Fewer features mean faster model training and lower computational cost.\n",
    "\n",
    "*4.Enhances Interpretability 🔍*\n",
    " \n",
    "        Helps in understanding which features actually impact predictions.\n",
    " "
   ]
  },
  {
   "cell_type": "markdown",
   "id": "c5407ce8",
   "metadata": {},
   "source": [
    "**Types of Feature Selection Methods**\n",
    " \n",
    "<ins>*Type => Filter Methods:*</ins>\n",
    " \n",
    "Method => Correlation, Chi-Square, Mutual Information.\n",
    " \n",
    "Description => Rank features based on statistical tests.\n",
    " "
   ]
  },
  {
   "cell_type": "markdown",
   "id": "ad4d5a32",
   "metadata": {},
   "source": [
    "<ins>*Type => Wrapper Methods:*</ins>\n",
    " \n",
    "Method => Forward/Backward Selection, Recursive Feature Elimination (RFE)\n",
    " \n",
    "Description => Train models with different feature subsets and select the best."
   ]
  },
  {
   "cell_type": "markdown",
   "id": "224e30c1",
   "metadata": {},
   "source": [
    "<ins>*Type => Embedded Methods*</ins>\n",
    " \n",
    "Method =>Lasso Regression, Decision Trees\n",
    " \n",
    "Description =>Feature selection is built into the model training process."
   ]
  },
  {
   "cell_type": "code",
   "execution_count": 7,
   "id": "e708b486",
   "metadata": {},
   "outputs": [],
   "source": [
    "import pandas as pd\n",
    "import numpy as np\n",
    "from sklearn.model_selection import train_test_split\n",
    "from sklearn.ensemble import RandomForestRegressor\n",
    "from sklearn.feature_selection import RFE\n",
    "from sklearn.linear_model import Lasso\n",
    "import seaborn as sns\n",
    "import matplotlib.pyplot as plt"
   ]
  },
  {
   "cell_type": "code",
   "execution_count": 8,
   "id": "86bb7ed5",
   "metadata": {},
   "outputs": [],
   "source": [
    "# Step 1: Create a Sample Dataset\n",
    "np.random.seed(42)\n",
    "data = pd.DataFrame({\n",
    "    'Size': np.random.randint(1000, 5000, 100),  # Square feet (Start value,end value,number of generations)\n",
    "    'Bedrooms': np.random.randint(1, 5, 100),    # Number of bedrooms\n",
    "    'Age': np.random.randint(1, 50, 100),        # Age of the house\n",
    "    'Price': np.random.randint(100000, 500000, 100)  # House price\n",
    "})\n"
   ]
  },
  {
   "cell_type": "code",
   "execution_count": 9,
   "id": "a0b76ed8",
   "metadata": {},
   "outputs": [
    {
     "data": {
      "text/html": [
       "<div>\n",
       "<style scoped>\n",
       "    .dataframe tbody tr th:only-of-type {\n",
       "        vertical-align: middle;\n",
       "    }\n",
       "\n",
       "    .dataframe tbody tr th {\n",
       "        vertical-align: top;\n",
       "    }\n",
       "\n",
       "    .dataframe thead th {\n",
       "        text-align: right;\n",
       "    }\n",
       "</style>\n",
       "<table border=\"1\" class=\"dataframe\">\n",
       "  <thead>\n",
       "    <tr style=\"text-align: right;\">\n",
       "      <th></th>\n",
       "      <th>Size</th>\n",
       "      <th>Bedrooms</th>\n",
       "      <th>Age</th>\n",
       "      <th>Price</th>\n",
       "    </tr>\n",
       "  </thead>\n",
       "  <tbody>\n",
       "    <tr>\n",
       "      <th>0</th>\n",
       "      <td>4174</td>\n",
       "      <td>2</td>\n",
       "      <td>32</td>\n",
       "      <td>486393</td>\n",
       "    </tr>\n",
       "    <tr>\n",
       "      <th>1</th>\n",
       "      <td>4507</td>\n",
       "      <td>2</td>\n",
       "      <td>39</td>\n",
       "      <td>134754</td>\n",
       "    </tr>\n",
       "    <tr>\n",
       "      <th>2</th>\n",
       "      <td>1860</td>\n",
       "      <td>4</td>\n",
       "      <td>49</td>\n",
       "      <td>326814</td>\n",
       "    </tr>\n",
       "    <tr>\n",
       "      <th>3</th>\n",
       "      <td>2294</td>\n",
       "      <td>2</td>\n",
       "      <td>32</td>\n",
       "      <td>337714</td>\n",
       "    </tr>\n",
       "    <tr>\n",
       "      <th>4</th>\n",
       "      <td>2130</td>\n",
       "      <td>2</td>\n",
       "      <td>4</td>\n",
       "      <td>242483</td>\n",
       "    </tr>\n",
       "  </tbody>\n",
       "</table>\n",
       "</div>"
      ],
      "text/plain": [
       "   Size  Bedrooms  Age   Price\n",
       "0  4174         2   32  486393\n",
       "1  4507         2   39  134754\n",
       "2  1860         4   49  326814\n",
       "3  2294         2   32  337714\n",
       "4  2130         2    4  242483"
      ]
     },
     "execution_count": 9,
     "metadata": {},
     "output_type": "execute_result"
    }
   ],
   "source": [
    "data.head()"
   ]
  },
  {
   "cell_type": "code",
   "execution_count": 13,
   "id": "c88cd427",
   "metadata": {},
   "outputs": [
    {
     "data": {
      "image/png": "[encoded data removed]",
      "text/plain": [
       "<Figure size 600x400 with 2 Axes>"
      ]
     },
     "metadata": {},
     "output_type": "display_data"
    }
   ],
   "source": [
    "# Step 2: Compute Correlation (Filter Method)\n",
    "plt.figure(figsize=(6, 4))\n",
    "sns.heatmap(data.corr(), annot=True, cmap='coolwarm_r', fmt='.2f')\n",
    "plt.title(\"Feature Correlation Matrix\")#Correlation is also called as filter method\n",
    "plt.show()\n",
    "# Compute correlation to see how features relate to the target."
   ]
  },
  {
   "cell_type": "code",
   "execution_count": 18,
   "id": "08e14398",
   "metadata": {},
   "outputs": [
    {
     "name": "stdout",
     "output_type": "stream",
     "text": [
      "Selected Features using RFE: Index(['Size', 'Age'], dtype='object')\n"
     ]
    }
   ],
   "source": [
    "#Recursive Feature Elimination\n",
    "# Step 3: Apply Recursive Feature Elimination (Wrapper Method)\n",
    "X = data.drop(columns=['Price'])  # Features\n",
    "y = data['Price']  # Target variable\n",
    "\n",
    "model = RandomForestRegressor()\n",
    "rfe = RFE(model, n_features_to_select=2)  # Select top 2 features\n",
    "X_selected = rfe.fit_transform(X, y)\n",
    "\n",
    "print(\"Selected Features using RFE:\", X.columns[rfe.support_])\n",
    "\n",
    "# Apply RFE (Wrapper Method) to select the top 2 important features.\n",
    "#In this we get 2 important features"
   ]
  },
  {
   "cell_type": "code",
   "execution_count": 19,
   "id": "be8f1cb9",
   "metadata": {},
   "outputs": [
    {
     "name": "stdout",
     "output_type": "stream",
     "text": [
      "Selected Features using Lasso: Index(['Size', 'Bedrooms', 'Age'], dtype='object')\n"
     ]
    }
   ],
   "source": [
    "# Selected Features using RFE: Index(['Size', 'Age'], dtype='object')\n",
    "# Step 4: Apply Lasso (Least Absolute Shrinkage and Selection Operator) Regression (Embedded Method)\n",
    "lasso = Lasso(alpha=0.1)\n",
    "lasso.fit(X, y)\n",
    "importance = np.abs(lasso.coef_)\n",
    "\n",
    "# Display Feature Importance\n",
    "selected_features = X.columns[importance > 0]\n",
    "print(\"Selected Features using Lasso:\", selected_features)\n",
    "\n",
    "# Apply Lasso Regression (Embedded Method) to eliminate irrelevant features.\n",
    "# Selected Features using Lasso: Index(['Size', 'Bedrooms', 'Age'], dtype='object')\n",
    "#In this the columns which should be eliminated are given"
   ]
  }
 ],
 "metadata": {
  "kernelspec": {
   "display_name": "Python 3 (ipykernel)",
   "language": "python",
   "name": "python3"
  },
  "language_info": {
   "codemirror_mode": {
    "name": "ipython",
    "version": 3
   },
   "file_extension": ".py",
   "mimetype": "text/x-python",
   "name": "python",
   "nbconvert_exporter": "python",
   "pygments_lexer": "ipython3",
   "version": "3.11.5"
  }
 },
 "nbformat": 4,
 "nbformat_minor": 5
}
